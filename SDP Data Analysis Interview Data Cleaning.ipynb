{
 "cells": [
  {
   "cell_type": "markdown",
   "id": "57ee9dec",
   "metadata": {},
   "source": [
    "# Import Data"
   ]
  },
  {
   "cell_type": "code",
   "execution_count": 51,
   "id": "2fb68cfd",
   "metadata": {},
   "outputs": [],
   "source": [
    "# Import Dependencies\n",
    "import pandas as pd"
   ]
  },
  {
   "cell_type": "code",
   "execution_count": 52,
   "id": "de4f842a",
   "metadata": {},
   "outputs": [],
   "source": [
    "# Create pathway to csv file\n",
    "csv_path = \"../SDP-Interview-/Data.csv\""
   ]
  },
  {
   "cell_type": "code",
   "execution_count": 53,
   "id": "17883289",
   "metadata": {},
   "outputs": [
    {
     "data": {
      "text/html": [
       "<div>\n",
       "<style scoped>\n",
       "    .dataframe tbody tr th:only-of-type {\n",
       "        vertical-align: middle;\n",
       "    }\n",
       "\n",
       "    .dataframe tbody tr th {\n",
       "        vertical-align: top;\n",
       "    }\n",
       "\n",
       "    .dataframe thead th {\n",
       "        text-align: right;\n",
       "    }\n",
       "</style>\n",
       "<table border=\"1\" class=\"dataframe\">\n",
       "  <thead>\n",
       "    <tr style=\"text-align: right;\">\n",
       "      <th></th>\n",
       "      <th>School Year</th>\n",
       "      <th>Student ID</th>\n",
       "      <th>School ID</th>\n",
       "      <th>School Name</th>\n",
       "      <th>Learning Network</th>\n",
       "      <th>Days Enrolled</th>\n",
       "      <th>Attendance Rate</th>\n",
       "      <th>Grade Level</th>\n",
       "      <th>Gender</th>\n",
       "      <th>Ethnicity</th>\n",
       "      <th>English Learner Indicator</th>\n",
       "      <th>Special Ed Indicator</th>\n",
       "    </tr>\n",
       "  </thead>\n",
       "  <tbody>\n",
       "    <tr>\n",
       "      <th>0</th>\n",
       "      <td>2016-2017</td>\n",
       "      <td>4542026</td>\n",
       "      <td>2620</td>\n",
       "      <td>Academy at Palumbo</td>\n",
       "      <td>Autonomy</td>\n",
       "      <td>178</td>\n",
       "      <td>98%</td>\n",
       "      <td>12</td>\n",
       "      <td>Female</td>\n",
       "      <td>White</td>\n",
       "      <td>Not English Learner</td>\n",
       "      <td>Not Special Education</td>\n",
       "    </tr>\n",
       "    <tr>\n",
       "      <th>1</th>\n",
       "      <td>2016-2017</td>\n",
       "      <td>4538360</td>\n",
       "      <td>4140</td>\n",
       "      <td>Strawberry Mansion High School</td>\n",
       "      <td>Turnaround</td>\n",
       "      <td>3</td>\n",
       "      <td>0%</td>\n",
       "      <td>10</td>\n",
       "      <td>Male</td>\n",
       "      <td>Black/African American</td>\n",
       "      <td>Not English Learner</td>\n",
       "      <td>Not Special Education</td>\n",
       "    </tr>\n",
       "    <tr>\n",
       "      <th>2</th>\n",
       "      <td>2016-2017</td>\n",
       "      <td>4624115</td>\n",
       "      <td>5700</td>\n",
       "      <td>Kensington High School</td>\n",
       "      <td>Network 5</td>\n",
       "      <td>172</td>\n",
       "      <td>99%</td>\n",
       "      <td>10</td>\n",
       "      <td>Male</td>\n",
       "      <td>Hispanic/Latino</td>\n",
       "      <td>Not English Learner</td>\n",
       "      <td>Not Special Education</td>\n",
       "    </tr>\n",
       "    <tr>\n",
       "      <th>3</th>\n",
       "      <td>2018-2019</td>\n",
       "      <td>4565925</td>\n",
       "      <td>4030</td>\n",
       "      <td>High School of Engineering and Science</td>\n",
       "      <td>Network 4</td>\n",
       "      <td>179</td>\n",
       "      <td>98%</td>\n",
       "      <td>11</td>\n",
       "      <td>Male</td>\n",
       "      <td>Black/African American</td>\n",
       "      <td>Not English Learner</td>\n",
       "      <td>Not Special Education</td>\n",
       "    </tr>\n",
       "    <tr>\n",
       "      <th>4</th>\n",
       "      <td>2019-2020</td>\n",
       "      <td>4565925</td>\n",
       "      <td>4030</td>\n",
       "      <td>High School of Engineering and Science</td>\n",
       "      <td>Network 1</td>\n",
       "      <td>121</td>\n",
       "      <td>98%</td>\n",
       "      <td>12</td>\n",
       "      <td>Male</td>\n",
       "      <td>Black/African American</td>\n",
       "      <td>Not English Learner</td>\n",
       "      <td>Not Special Education</td>\n",
       "    </tr>\n",
       "  </tbody>\n",
       "</table>\n",
       "</div>"
      ],
      "text/plain": [
       "  School Year  Student ID  School ID                             School Name  \\\n",
       "0   2016-2017     4542026       2620                      Academy at Palumbo   \n",
       "1   2016-2017     4538360       4140          Strawberry Mansion High School   \n",
       "2   2016-2017     4624115       5700                  Kensington High School   \n",
       "3   2018-2019     4565925       4030  High School of Engineering and Science   \n",
       "4   2019-2020     4565925       4030  High School of Engineering and Science   \n",
       "\n",
       "  Learning Network  Days Enrolled Attendance Rate  Grade Level  Gender  \\\n",
       "0         Autonomy            178             98%           12  Female   \n",
       "1       Turnaround              3              0%           10    Male   \n",
       "2        Network 5            172             99%           10    Male   \n",
       "3        Network 4            179             98%           11    Male   \n",
       "4        Network 1            121             98%           12    Male   \n",
       "\n",
       "                Ethnicity English Learner Indicator   Special Ed Indicator  \n",
       "0                   White       Not English Learner  Not Special Education  \n",
       "1  Black/African American       Not English Learner  Not Special Education  \n",
       "2         Hispanic/Latino       Not English Learner  Not Special Education  \n",
       "3  Black/African American       Not English Learner  Not Special Education  \n",
       "4  Black/African American       Not English Learner  Not Special Education  "
      ]
     },
     "execution_count": 53,
     "metadata": {},
     "output_type": "execute_result"
    }
   ],
   "source": [
    "#create dataframe\n",
    "attendance_df = pd.read_csv(csv_path, encoding=\"utf-8\")\n",
    "attendance_df.head()"
   ]
  },
  {
   "cell_type": "markdown",
   "id": "be5479b6",
   "metadata": {},
   "source": [
    "# Clean Data"
   ]
  },
  {
   "cell_type": "code",
   "execution_count": 63,
   "id": "167203dc",
   "metadata": {},
   "outputs": [
    {
     "data": {
      "text/plain": [
       "Index(['School Year', 'Student ID', 'School ID', 'School Name',\n",
       "       'Learning Network', 'Days Enrolled', 'Attendance Rate', 'Grade Level',\n",
       "       'Gender', 'Ethnicity', 'English Learner Indicator',\n",
       "       'Special Ed Indicator'],\n",
       "      dtype='object')"
      ]
     },
     "execution_count": 63,
     "metadata": {},
     "output_type": "execute_result"
    }
   ],
   "source": [
    "#Check that datatypes are compatible for computations \n",
    "attendance_df.dtypes\n",
    "#dtypes look appropriate \n",
    "attendance_df.columns"
   ]
  },
  {
   "cell_type": "code",
   "execution_count": 55,
   "id": "4360905d",
   "metadata": {},
   "outputs": [
    {
     "data": {
      "text/plain": [
       "School Year                  False\n",
       "Student ID                   False\n",
       "School ID                    False\n",
       "School Name                  False\n",
       "Learning Network             False\n",
       "Days Enrolled                False\n",
       "Attendance Rate              False\n",
       "Grade Level                  False\n",
       "Gender                       False\n",
       "Ethnicity                    False\n",
       "English Learner Indicator    False\n",
       "Special Ed Indicator         False\n",
       "dtype: bool"
      ]
     },
     "execution_count": 55,
     "metadata": {},
     "output_type": "execute_result"
    }
   ],
   "source": [
    "#checking for null values to be dropped\n",
    "attendance_df.isna().any()\n",
    "#no null data"
   ]
  },
  {
   "cell_type": "code",
   "execution_count": 56,
   "id": "32e138f1",
   "metadata": {},
   "outputs": [
    {
     "data": {
      "text/plain": [
       "array(['2016-2017', '2018-2019', '2019-2020', '2017-2018'], dtype=object)"
      ]
     },
     "execution_count": 56,
     "metadata": {},
     "output_type": "execute_result"
    }
   ],
   "source": [
    "#Checking unique school years\n",
    "school_years = attendance_df[\"School Year\"].unique()\n",
    "school_years\n",
    "#4 unique school years will be useful for more general data and a quick look"
   ]
  },
  {
   "cell_type": "code",
   "execution_count": 57,
   "id": "4dc88db8",
   "metadata": {},
   "outputs": [
    {
     "data": {
      "text/plain": [
       "array(['Academy at Palumbo', 'Strawberry Mansion High School',\n",
       "       'Kensington High School', 'High School of Engineering and Science',\n",
       "       'Thomas A. Edison High School',\n",
       "       'Paul Robeson High School for Human Services',\n",
       "       'George Washington High School', 'William L. Sayre High School',\n",
       "       'Samuel Fels High School', 'Roxborough High School',\n",
       "       'Parkway West High School', 'Benjamin Franklin High School',\n",
       "       'South Philadelphia High School', 'Overbrook High School',\n",
       "       'Constitution High School',\n",
       "       'A. Philip Randolph Career and Technical High School',\n",
       "       'Frankford High School', 'John Bartram High School',\n",
       "       'Abraham Lincoln High School', 'Parkway Center City High School',\n",
       "       'Furness High School', 'West Philadelphia High School',\n",
       "       'Jules E. Mastbaum Area Vocational Technical High School',\n",
       "       'Arts Academy at Benjamin Rush', 'Hamilton Disston School',\n",
       "       'Kensington Health Sciences Academy', 'Central High School',\n",
       "       'Parkway Northwest High School', 'Martin Luther King High School',\n",
       "       'Philadelphia High School for Girls', 'High School of the Future',\n",
       "       'Franklin Learning Center', 'Northeast High School',\n",
       "       'High School for Creative and Performing Arts School',\n",
       "       'Murrell Dobbins Career and Technical High School',\n",
       "       'Hill-Freedman World Academy', 'Motivation High School',\n",
       "       'The Science Leadership Academy at Beeber', 'The U School',\n",
       "       'Walter B. Saul High School', 'Edward T. Steel School', 'The LINC',\n",
       "       'Parkway Center City Middle College High School',\n",
       "       'Kensington High School for Creative and Performing Arts',\n",
       "       'Science Leadership Academy', 'Building 21',\n",
       "       'William W. Bodine High School',\n",
       "       'Swenson Arts and Technology High School', 'Jay Cooke School',\n",
       "       'Philadelphia Military Academy',\n",
       "       'High School for Creative and Performing Arts',\n",
       "       'Girard Academic Music Program', 'Penn Treaty High School',\n",
       "       'Lankenau High School', 'John Barry School', 'The Workshop School',\n",
       "       'Thomas Mifflin School', 'Dimner Beeber School',\n",
       "       'Warren G. Harding School', 'General Philip Kearny School',\n",
       "       'Julia R. Masterman School', 'Andrew Hamilton School',\n",
       "       'Henry C. Lea School', 'Mary M. Bethune School',\n",
       "       'Dr. Ethel Allen School', 'Laura W. Waring School',\n",
       "       'Lewis C. Cassidy Academics Plus School',\n",
       "       'Feltonville School of Arts and Sciences',\n",
       "       'Russell H. Conwell School', 'William Dick School',\n",
       "       'Benjamin B. Comegys School', 'Samuel Pennypacker School',\n",
       "       'Vaux High School: A Big Picture',\n",
       "       'Middle Years Alternative School', 'Charles W. Henry School',\n",
       "       'Edwin M. Stanton School', 'Kenderton Elementary School',\n",
       "       'Theodore Roosevelt School', 'Gilbert Spruance School',\n",
       "       'E. Washington Rhodes School', 'General George G. Meade School',\n",
       "       'Delaplaine McDaniel School', 'Grover Washington, Jr. School',\n",
       "       'General Louis Wagner School', 'Spring Garden School',\n",
       "       'Ethan Allen School', 'Paul L. Dunbar School',\n",
       "       'Roberto Clemente School', 'Martha Washington School',\n",
       "       'Baldi School', 'Woodrow Wilson School', 'Anna B. Day School',\n",
       "       'William H. Ziegler School', 'John F. Hartranft School',\n",
       "       'Eliza B. Kirkbride School', 'Olney School',\n",
       "       'William C. Bryant School', 'Add B. Anderson School',\n",
       "       'Robert E. Lamberton School', 'Rudolph Blankenburg School',\n",
       "       'James J. Sullivan School', 'A.L. Fitzpatrick School',\n",
       "       'Academy for the Middle Years at Northwest',\n",
       "       'William C. Longstreth School', 'Avery D. Harrington School',\n",
       "       'Anna L. Lingelbach School', 'Thomas K. Finletter School',\n",
       "       'Shawmont School', 'Austin Meehan School',\n",
       "       'John Hancock Demonstration School', 'James G. Blaine School',\n",
       "       'S. Weir Mitchell School', 'William McKinley School',\n",
       "       'Edward Gideon School', 'Benjamin Franklin School',\n",
       "       'Tanner G. Duckrey School', 'Julia de Burgos School',\n",
       "       'James R. Ludlow School', 'Cayuga School',\n",
       "       'Alternative Middle Years at James Martin',\n",
       "       'Stephen Decatur School', 'Edward Heston School',\n",
       "       'William T. Tilden School', 'Overbrook Educational Center',\n",
       "       'Sadie Alexander School', 'Morton McMichael School',\n",
       "       'William M. Meredith School', 'George W. Sharswood School',\n",
       "       'Potter-Thomas School', 'Andrew J. Morrison School',\n",
       "       'Henry A. Brown School', 'Southwark School', 'James Rhoads School',\n",
       "       'Allen M. Stearne School', 'Penrose School',\n",
       "       'Honorable Luis Munoz-Marin School', 'John Welsh School',\n",
       "       'William D. Kelley School', 'General George A. McCall School',\n",
       "       'Cook-Wissahickon School', 'John F. McCloskey School',\n",
       "       'Albert M. Greenfield School', 'Juniata Park Academy',\n",
       "       'Louis H. Farrell School', 'Francis Hopkinson School',\n",
       "       'D. Newlin Fell School', 'Bridesburg School', 'Mayfair School',\n",
       "       'Jenks Academy for Arts and Sciences', 'William H. Hunter School',\n",
       "       'Alain Locke School', 'Vare-Washington School',\n",
       "       'Fitler Academics Plus School', 'Robert Morris School',\n",
       "       'Henry H. Houston School', 'George W. Nebinger School',\n",
       "       'Bache-Martin School', 'Chester A. Arthur School',\n",
       "       'F. Amedee Bregy School', 'James Dobson School',\n",
       "       'Thurgood Marshall School', 'Fox Chase School',\n",
       "       'Joseph Greenberg School', 'George W. Childs School',\n",
       "       'Joseph Pennell School', 'Thomas Holme School',\n",
       "       'John B. Kelly School', 'John Marshall School',\n",
       "       'Alexander Adaire School', 'Andrew Jackson School',\n",
       "       'John H. Taggart School', 'Edwin Forrest School',\n",
       "       'Overbrook Elementary School', 'Overbrook School',\n",
       "       'Thomas M. Peirce School', 'Franklin S. Edmonds School',\n",
       "       'J. Hampton Moore School', 'Feltonville Intermediate School',\n",
       "       'Samuel Gompers School', 'John H. Webster School',\n",
       "       'William Cramp School', 'James Logan School',\n",
       "       'Alexander K. McClure School', 'Bayard Taylor School',\n",
       "       'Joseph H. Brown School', 'Joseph W. Catharine School',\n",
       "       'Science Leadership Academy Middle School',\n",
       "       'Francis S. Key School', 'Eleanor C. Emlen School',\n",
       "       'Robert B. Pollock School', 'Richmond School',\n",
       "       'Watson Comly School', 'John Moffet School',\n",
       "       'Henry W. Lawton School', 'James R. Lowell School',\n",
       "       'Prince Hall School', 'Frances E. Willard School',\n",
       "       'Ellwood School', 'Julia W. Howe School',\n",
       "       'Kennedy C. Crossan School', 'Horatio B. Hackett School',\n",
       "       'William Rowen School', 'Solomon Solis-Cohen School',\n",
       "       'Rhawnhurst School', 'Anne Frank School', 'Samuel Powel School',\n",
       "       'Laura H. Carnell School', 'William H. Loesche School',\n",
       "       'Richard R. Wright School', 'Thomas G. Morton School',\n",
       "       'Isaac A. Sheppard School', 'Abram S. Jenks School',\n",
       "       'Lewis Elkin School', 'John M. Patterson School',\n",
       "       'Stephen Girard School', 'Philip H. Sheridan School',\n",
       "       'Clara Barton School'], dtype=object)"
      ]
     },
     "execution_count": 57,
     "metadata": {},
     "output_type": "execute_result"
    }
   ],
   "source": [
    "#Checking unique schools\n",
    "school = attendance_df[\"School Name\"].unique()\n",
    "school\n",
    "#len(school)\n",
    "#217 school counts. This will need to be broken down further for a useful visualization"
   ]
  },
  {
   "cell_type": "code",
   "execution_count": 58,
   "id": "cb2b812a",
   "metadata": {},
   "outputs": [
    {
     "data": {
      "text/plain": [
       "array(['Autonomy', 'Turnaround', 'Network 5', 'Network 4', 'Network 1',\n",
       "       'Network 13', 'Network 2', 'Network 8', 'Network 7', 'Network 6',\n",
       "       'Network 3', 'Network 9', 'Network 11', 'Innovation',\n",
       "       'Acceleration', 'Network 10', 'Network 12'], dtype=object)"
      ]
     },
     "execution_count": 58,
     "metadata": {},
     "output_type": "execute_result"
    }
   ],
   "source": [
    "#Checking unique networks\n",
    "network = attendance_df[\"Learning Network\"].unique()\n",
    "network\n",
    "#len(network)\n",
    "#17 networks, could work with certain visualizations "
   ]
  },
  {
   "cell_type": "code",
   "execution_count": 59,
   "id": "ddb5ebd0",
   "metadata": {},
   "outputs": [
    {
     "data": {
      "text/plain": [
       "array([12, 10, 11,  9,  5,  3,  8,  7,  6,  2,  4,  1,  0])"
      ]
     },
     "execution_count": 59,
     "metadata": {},
     "output_type": "execute_result"
    }
   ],
   "source": [
    "#checking unique grades\n",
    "grade_level = attendance_df[\"Grade Level\"].unique()\n",
    "grade_level\n",
    "#len(grade_level)\n",
    "#13 grade levels, could work with certain visualizations "
   ]
  },
  {
   "cell_type": "code",
   "execution_count": 60,
   "id": "cb171dda",
   "metadata": {},
   "outputs": [
    {
     "data": {
      "text/plain": [
       "array(['White', 'Black/African American', 'Hispanic/Latino', 'Asian',\n",
       "       'Multi Racial/Other', 'American Indian/Alaskan Native',\n",
       "       'Native Hawaiian/Pacific Islander', 'Unknown'], dtype=object)"
      ]
     },
     "execution_count": 60,
     "metadata": {},
     "output_type": "execute_result"
    }
   ],
   "source": [
    "#checking unique ethnicities \n",
    "ethnicity = attendance_df[\"Ethnicity\"].unique()\n",
    "ethnicity\n",
    "#len(ethnicity)\n",
    "#8 ethnicities, should work well for visualizations "
   ]
  },
  {
   "cell_type": "code",
   "execution_count": 61,
   "id": "97c30d4e",
   "metadata": {},
   "outputs": [
    {
     "data": {
      "text/plain": [
       "array([[<AxesSubplot:title={'center':'Student ID'}>,\n",
       "        <AxesSubplot:title={'center':'School ID'}>],\n",
       "       [<AxesSubplot:title={'center':'Days Enrolled'}>,\n",
       "        <AxesSubplot:title={'center':'Grade Level'}>]], dtype=object)"
      ]
     },
     "execution_count": 61,
     "metadata": {},
     "output_type": "execute_result"
    },
    {
     "data": {
      "image/png": "[encoded data removed]",
      "text/plain": [
       "<Figure size 432x288 with 4 Axes>"
      ]
     },
     "metadata": {
      "needs_background": "light"
     },
     "output_type": "display_data"
    }
   ],
   "source": [
    "#Check if data is evenly distributed \n",
    "attendance_df.hist()\n",
    "#student and school ID's distributions are not relevant\n",
    "\n",
    "#Days enrolled is heavily skewed with a bump around 110. This is worth exploring further\n",
    "\n",
    "#Grade levels have bumps at K, 6, and 12. This is worth exploring further"
   ]
  },
  {
   "cell_type": "code",
   "execution_count": 62,
   "id": "846d5497",
   "metadata": {},
   "outputs": [],
   "source": [
    "#Data Looks good and is ready to move to Tableau for visualization "
   ]
  },
  {
   "cell_type": "code",
   "execution_count": null,
   "id": "d9109fbe",
   "metadata": {},
   "outputs": [],
   "source": []
  }
 ],
 "metadata": {
  "kernelspec": {
   "display_name": "Python 3 (ipykernel)",
   "language": "python",
   "name": "python3"
  },
  "language_info": {
   "codemirror_mode": {
    "name": "ipython",
    "version": 3
   },
   "file_extension": ".py",
   "mimetype": "text/x-python",
   "name": "python",
   "nbconvert_exporter": "python",
   "pygments_lexer": "ipython3",
   "version": "3.9.7"
  }
 },
 "nbformat": 4,
 "nbformat_minor": 5
}
